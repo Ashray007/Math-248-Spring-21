{
 "cells": [
  {
   "cell_type": "markdown",
   "metadata": {},
   "source": [
    "![image](JMUlogo.png)   \n",
    "\n",
    "# Math 248 Spring 2021\n",
    "                                                      \n",
    " # Computers and Numerical Algorithms\n",
    "                                                                                                          \n",
    " ## Instructor: Hala Nelson\n",
    "                                                                                                      \n",
    "  --------------------------------------------------- ----------------------------------------\n",
    "\n",
    "Course Objectives\n",
    "-----------------\n",
    "\n",
    "*This is not a computer science class.* Math 248 is a keystone course for those who wish to specialize in applied or computational mathematics, and also reinforces and advances\n",
    "concepts from the calculus sequence, linear algebra and differential equations (238 or 336), and some probability. This course covers a wide swath of mathematical territory.\n",
    "\n",
    "-   Understand both the power of computing and its limitations (storage,\n",
    "    etc).\n",
    "\n",
    "-   Translate an algorithm into a program.\n",
    "\n",
    "-   Learn how to solve mathematical problems numerically and\n",
    "    computationally.\n",
    "\n",
    "-   Differentiate between analytical, numerical and computational\n",
    "    solutions of mathematical problems.\n",
    "\n",
    "-   Quantify errors and their sources.\n",
    "\n",
    "-   Construct sequences to approximate solutions of mathematical\n",
    "    problems (iterative methods, polynomial approximations, *etc.*).\n",
    "    Convergence/divergence, rate of convergence/divergence and error\n",
    "    analysis.\n",
    "\n",
    "-   Understand the difference between linear and nonlinear problems.\n",
    "    Linearizing.\n",
    "\n",
    "-   Discretize continuum quantities and problems (derivatives,\n",
    "    integrals, differential equations, *etc.*).\n",
    "\n",
    "- Build confidence and understanding in using the computer as an\n",
    "    efficient mathematical tool.\n",
    "\n",
    "- Understand some of the benefits and limitations for computer\n",
    "    answers.\n",
    "\n",
    "# Notes for Weeks 1 and 2\n",
    "\n",
    "1.  We will code using Python 3. We will be setting up our own Jupyter\n",
    "    notebooks.\n",
    "\n",
    "2.  What are the main topics in Calculus? (Limits, functions,\n",
    "    continuity, differentiation, integration). Most important\n",
    "    application of calculus: The max and min happen at points where\n",
    "    $f'(x)=0$. Make sure you know your chain rule to calculate\n",
    "    derivatives in Calculus.\n",
    "\n",
    "3.  What is the language of Linear Algebra? (Vectors, matrices, vector\n",
    "    spaces, transformations). We will see important Matrix\n",
    "    Decompositions.\n",
    "\n",
    "4.  What are differential equations useful for? (Modeling phenomena from\n",
    "    the real world).\n",
    "\n",
    "5.  What does probability quantify? (Randomness). How do you generate a\n",
    "    random number in Python?\n",
    "\n",
    "6.  Sequences of real numbers:\n",
    "\n",
    "    -   Definition: A sequence of real numbers $\\{a_n\\}$ is a function\n",
    "        $a: \\mathbb{N}\\to\\mathbb{R}$ (it has infinitely many terms that\n",
    "        can be listed $a_1=a(1), a_2=a(2), \\dots, a_n=a(n),\\dots$).\n",
    "\n",
    "    -   Possible behaviors: divergence to $\\infty$, divergence to\n",
    "        $-\\infty$, convergence to a limit $L$ (see next item), limit\n",
    "        does not exist (in which case it has subsequences whose behavior\n",
    "        is identified).\n",
    "\n",
    "    -   Convergence of a sequence $\\{a_n\\}$ to a limit $L$: Given\n",
    "        $\\epsilon>0$ there is an $N$ such that for all $n>N$,\n",
    "        $|a_n-L|<\\epsilon$.\n",
    "\n",
    "7.  Finite sums: **Summation formulas** (note that if the index starts\n",
    "    somewhere other than $1$ you have to make appropriate adjustments):\n",
    "\n",
    "    -   Sum of numbers: $\\sum_{i=1}^ni=\\frac{n(n+1)}{2}$\n",
    "\n",
    "    -   Sum of squares: $\\sum_{i=1}^ni^2=\\frac{n(n+1)(2n+1)}{6}$\n",
    "\n",
    "    -   Sum of cubes: $\\sum_{i=1}^ni^3=\\frac{n^2(n+1)^2}{4}$\n",
    "\n",
    "    -   Sum of geometric series: $\\sum_{i=1}^nb^i=\\frac{b^{n+1}-1}{b-1}$\n",
    "\n",
    "8.  **Program flow**: Always make sure you understand the *input* and\n",
    "    *output* of a program before writing it or creating the algorithm.\n",
    "\n",
    "9.  **Python**\n",
    "\n",
    "    -   Object Oriented and Interpreted Language.\n",
    "\n",
    "    -   Data types, classes, objects, dictionaries, data frame.\n",
    "\n",
    "    -   while loop and for loop\n",
    "\n",
    "    -   Libraries: numpy, matplotlib, pandas\n",
    "\n",
    "    -   if statement\n",
    "\n",
    "    -   initiating lists, vectors and matrices.\n",
    "\n",
    "    -   Adding onto lists.\n",
    "\n",
    "    -   functions and methods.\n",
    "\n",
    "    -   Good names for your variables and your files.\n",
    "\n",
    "# Assignment 1 and 2\n",
    "\n",
    "1.  What is an algorithm? What is the difference between an algorithm\n",
    "    and a computer program?\n",
    "\n",
    "2.  Why is Python a high level language? Why is it interpreted? What is\n",
    "    Machine Language?\n",
    "\n",
    "3.  What was the role of Bell labs in the development of the modern\n",
    "    computer?\n",
    "\n",
    "4.  What was the role of Alan Turing in the development of the modern\n",
    "    computer? (The movie *the imitation game (2014)* is (loosely) based\n",
    "    on Alan's story.)\n",
    "\n",
    "5.  What is a transistor? Why is it important for building and enhancing\n",
    "    computers?\n",
    "\n",
    "6.  How small is the smallest transistor ever invented?\n",
    "\n",
    "7.  What is a semiconductor? Why is it important for building and\n",
    "    enhancing computers?\n",
    "\n",
    "8.  Why was the development of the RAM revolutionary for the development\n",
    "    of the modern computer?\n",
    "\n",
    "9.  Why is there now so much research about quantum computing?\n",
    "\n",
    "10. Calculate the following sum analytically $\\sum_{k=6}^{50}k^2$.\n",
    "\n",
    "11. **Programming**\n",
    "\n",
    "    1.  Write a program that lists all the positive multiples of $5$\n",
    "        less than 200.\n",
    "\n",
    "    2.  Write a program that computes the following limit\n",
    "        $\\lim_{n\\to\\infty}\\frac{n^3-2n^2+1}{3n^3-4n+9}$. Make a plot\n",
    "        showing the convergence of the sequence\n",
    "        $\\left\\{\\frac{n^3-2n^2+1}{3n^3-4n+9}\\right\\}_{n=1}^\\infty$ to\n",
    "        this limit as $n\\to\\infty$.\n",
    "\n",
    "    3.  *Write a program that tells you the least $n$ so that the\n",
    "        sequence $a_n=\\frac{n^2}{2n^2-1}$ is within distance $0.000001$\n",
    "        of its limit*. Is this sequence fast to converge or slow?\n",
    "        Compare to the above problem.\n",
    "\n",
    "    4.  Write a program that calculates the following sum\n",
    "        $\\sum_{k=6}^{50}k^2$.\n",
    "\n",
    "    5.  Write a program that generates a random number between $0$ and\n",
    "        $1$.\n",
    "\n",
    "    6.  Write a program that generates a random number between $11$ and\n",
    "        $24$.\n",
    "\n",
    "    7.  Write a Python class that defines instances with your name, your\n",
    "        jmu eid, your phone number.\n",
    "        \n",
    "    8.  Write a dictionary containing your name, jmu eid, major, phone number, then create a data frame for your dictionary."
   ]
  },
  {
   "cell_type": "markdown",
   "metadata": {},
   "source": [
    "# Program A: All possible multiples of 5 less than 200"
   ]
  },
  {
   "cell_type": "code",
   "execution_count": 2,
   "metadata": {},
   "outputs": [
    {
     "name": "stdout",
     "output_type": "stream",
     "text": [
      "[0, 5, 10, 15, 20, 25, 30, 35, 40, 45, 50, 55, 60, 65, 70, 75, 80, 85, 90, 95, 100, 105, 110, 115, 120, 125, 130, 135, 140, 145, 150, 155, 160, 165, 170, 175, 180, 185, 190, 195, 200]\n"
     ]
    }
   ],
   "source": [
    "# initiate an empty list then append it with multiples of 5 \n",
    "list=[]\n",
    "for i in range(0,201,5):\n",
    "    list.append(i)\n",
    "print(list)"
   ]
  },
  {
   "cell_type": "markdown",
   "metadata": {},
   "source": [
    "# Program B\n",
    "\n",
    "Write a program that computes the following limit\n",
    "        $\\lim_{n\\to\\infty}\\frac{n^3-2n^2+1}{3n^3-4n+9}$. Make a plot\n",
    "        showing the convergence of the sequence\n",
    "        $\\left\\{\\frac{n^3-2n^2+1}{3n^3-4n+9}\\right\\}_{n=1}^\\infty$ to\n",
    "        this limit as $n\\to\\infty$."
   ]
  },
  {
   "cell_type": "code",
   "execution_count": 3,
   "metadata": {},
   "outputs": [
    {
     "data": {
      "text/plain": [
       "[<matplotlib.lines.Line2D at 0x7fe644f5d1c0>]"
      ]
     },
     "execution_count": 3,
     "metadata": {},
     "output_type": "execute_result"
    },
    {
     "data": {
      "image/png": "[encoded data removed]",
      "text/plain": [
       "<Figure size 432x288 with 1 Axes>"
      ]
     },
     "metadata": {
      "needs_background": "light"
     },
     "output_type": "display_data"
    }
   ],
   "source": [
    "# import useful libraries\n",
    "import numpy as np\n",
    "import matplotlib.pyplot as plt\n",
    "# create the function that you need to calculate its limit\n",
    "def f(n):\n",
    "    formula=(n**3-2*n**2+1)/(3*n**3-4*n+9)\n",
    "    return formula\n",
    "# create a list that contains the values of the function for n= 0: 1000\n",
    "# first initiate an empty list\n",
    "list=[]\n",
    "for n in np.arange(1,200,0.5):\n",
    "   list.append(f(n))\n",
    "# plot your sequence and check if it converged \n",
    "plt.plot(np.transpose(list),'b.')"
   ]
  },
  {
   "cell_type": "markdown",
   "metadata": {},
   "source": [
    "# Program C \n",
    "\n",
    "Write a program that tells you the least $n$ so that the\n",
    "        sequence $a_n=\\frac{n^2}{2n^2-1}$ is within distance $0.000001$\n",
    "        of its limit*. Is this sequence fast to converge or slow?\n",
    "        Compare to the above problem."
   ]
  },
  {
   "cell_type": "code",
   "execution_count": 14,
   "metadata": {},
   "outputs": [
    {
     "name": "stdout",
     "output_type": "stream",
     "text": [
      "0.5000009960139522\n",
      "9.960139522036116e-07\n"
     ]
    },
    {
     "data": {
      "text/plain": [
       "[<matplotlib.lines.Line2D at 0x7fcb3eab8ee0>]"
      ]
     },
     "execution_count": 14,
     "metadata": {},
     "output_type": "execute_result"
    },
    {
     "data": {
      "image/png": "[encoded data removed]",
      "text/plain": [
       "<Figure size 432x288 with 1 Axes>"
      ]
     },
     "metadata": {
      "needs_background": "light"
     },
     "output_type": "display_data"
    }
   ],
   "source": [
    "# import plotting library and numpy for using zeros function in the last plot\n",
    "import matplotlib.pyplot as plt\n",
    "import numpy as np\n",
    "# write a function for the formula\n",
    "def a(n):\n",
    "    return n**2/(2*n**2-1)\n",
    "# first element\n",
    "# define the limit if you know it (analytically)\n",
    "L=0.5\n",
    "n=1\n",
    "eps=0.000001\n",
    "# Let's save the sequence members in a list so we can plot it later\n",
    "list=[]\n",
    "while (abs(a(n)-L)>eps):\n",
    "    list.append(a(n))\n",
    "    n =n+1\n",
    "print(a(n))\n",
    "print(a(n)-0.5)\n",
    "# Let's plot this covergence\n",
    "plt.plot(list,'k.')\n",
    "# Let's plot them on the number line\n",
    "# you can plot a(n) as the first coordinate and zero as the second one\n",
    "#plt.scatter(list,np.zeros(len(list)))\n",
    "#plt.show()"
   ]
  },
  {
   "cell_type": "markdown",
   "metadata": {},
   "source": [
    "# Program D\n",
    "Write a program that calculates the following sum\n",
    "        $\\sum_{k=6}^{50}k^2$."
   ]
  },
  {
   "cell_type": "code",
   "execution_count": 5,
   "metadata": {},
   "outputs": [
    {
     "name": "stdout",
     "output_type": "stream",
     "text": [
      "42870\n"
     ]
    }
   ],
   "source": [
    "sum=0\n",
    "for k in range(6,51,1):\n",
    " sum=sum+k**2\n",
    "print(sum)"
   ]
  },
  {
   "cell_type": "markdown",
   "metadata": {},
   "source": [
    "# Program E\n",
    "Write a program that generates a random number between $0$ and\n",
    "        $1$."
   ]
  },
  {
   "cell_type": "code",
   "execution_count": 6,
   "metadata": {},
   "outputs": [
    {
     "name": "stdout",
     "output_type": "stream",
     "text": [
      "0.6645479921866919\n"
     ]
    }
   ],
   "source": [
    "x=np.random.rand()\n",
    "print(x)"
   ]
  },
  {
   "cell_type": "markdown",
   "metadata": {},
   "source": [
    "# Program F\n",
    "Write a program that generates a random number between $11$ and\n",
    "        $24$."
   ]
  },
  {
   "cell_type": "code",
   "execution_count": 7,
   "metadata": {},
   "outputs": [
    {
     "name": "stdout",
     "output_type": "stream",
     "text": [
      "16.706201289509938\n"
     ]
    }
   ],
   "source": [
    "y=11+13*np.random.rand()\n",
    "print(y)"
   ]
  },
  {
   "cell_type": "markdown",
   "metadata": {},
   "source": [
    "# Program G\n",
    "Write a Python class that defines instances with your name, your\n",
    "        jmu eid, your phone number."
   ]
  },
  {
   "cell_type": "code",
   "execution_count": 15,
   "metadata": {},
   "outputs": [
    {
     "name": "stdout",
     "output_type": "stream",
     "text": [
      "Hala\n",
      "12345\n",
      "123 444 8181\n",
      "Zed\n"
     ]
    }
   ],
   "source": [
    "# define a class named student, takes instances as students with name, eid, and phone\n",
    "class student:\n",
    "    def __init__(self,name,eid,phone):\n",
    "        self.name=name\n",
    "        self.eid=eid\n",
    "        self.phone=phone\n",
    "\n",
    "# now define instances in the student class\n",
    "student_1=student('Hala',12345,'347 111 3535')\n",
    "student_2=student('Maya', 55212, '123 444 8181')\n",
    "student_3=student('Zed',1102,'112 456 7654')\n",
    "\n",
    "# now check that your instances are saved the way they are supposed to\n",
    "print(student_1.name)\n",
    "print(student_1.eid)\n",
    "print(student_2.phone)\n",
    "print(student_3.name)"
   ]
  },
  {
   "cell_type": "markdown",
   "metadata": {},
   "source": [
    "# Program H\n",
    "Write a dictionary containing your name, jmu eid, major, phone number, then create a data frame for your dictionary.\n",
    "\n",
    "Dictionaries in python are indexed by keys. You can use the library pandas and the method DataFrame to create a data frame for your dictionary."
   ]
  },
  {
   "cell_type": "code",
   "execution_count": 41,
   "metadata": {},
   "outputs": [
    {
     "name": "stdout",
     "output_type": "stream",
     "text": [
      "{'name': 'Hala', 'eid': '12345', 'major': 'Math', 'phone': '222 134 5555'}\n",
      "<class 'dict'>\n",
      "Hala\n",
      "12345\n",
      "   x  y  z\n",
      "0  1  3  0\n",
      "1  2  4  0\n",
      "2  3  5  5\n",
      "3  8  1  4\n",
      "4  9  1  5\n",
      "5  2  1  6\n",
      "6  1  1  1\n"
     ]
    },
    {
     "data": {
      "text/html": [
       "<div>\n",
       "<style scoped>\n",
       "    .dataframe tbody tr th:only-of-type {\n",
       "        vertical-align: middle;\n",
       "    }\n",
       "\n",
       "    .dataframe tbody tr th {\n",
       "        vertical-align: top;\n",
       "    }\n",
       "\n",
       "    .dataframe thead th {\n",
       "        text-align: right;\n",
       "    }\n",
       "</style>\n",
       "<table border=\"1\" class=\"dataframe\">\n",
       "  <thead>\n",
       "    <tr style=\"text-align: right;\">\n",
       "      <th></th>\n",
       "      <th>x</th>\n",
       "      <th>y</th>\n",
       "      <th>z</th>\n",
       "    </tr>\n",
       "  </thead>\n",
       "  <tbody>\n",
       "    <tr>\n",
       "      <th>0</th>\n",
       "      <td>1</td>\n",
       "      <td>3</td>\n",
       "      <td>0</td>\n",
       "    </tr>\n",
       "    <tr>\n",
       "      <th>1</th>\n",
       "      <td>2</td>\n",
       "      <td>4</td>\n",
       "      <td>0</td>\n",
       "    </tr>\n",
       "    <tr>\n",
       "      <th>2</th>\n",
       "      <td>3</td>\n",
       "      <td>5</td>\n",
       "      <td>5</td>\n",
       "    </tr>\n",
       "    <tr>\n",
       "      <th>3</th>\n",
       "      <td>8</td>\n",
       "      <td>1</td>\n",
       "      <td>4</td>\n",
       "    </tr>\n",
       "    <tr>\n",
       "      <th>4</th>\n",
       "      <td>9</td>\n",
       "      <td>1</td>\n",
       "      <td>5</td>\n",
       "    </tr>\n",
       "  </tbody>\n",
       "</table>\n",
       "</div>"
      ],
      "text/plain": [
       "   x  y  z\n",
       "0  1  3  0\n",
       "1  2  4  0\n",
       "2  3  5  5\n",
       "3  8  1  4\n",
       "4  9  1  5"
      ]
     },
     "execution_count": 41,
     "metadata": {},
     "output_type": "execute_result"
    }
   ],
   "source": [
    "# this is my dictionary\n",
    "me={'name': 'Hala', 'eid': '12345', 'major': 'Math', 'phone': '222 134 5555'}\n",
    "print(me)\n",
    "# check that the type of your new object is a dictionary\n",
    "print(type(me))\n",
    "# access values in my dictionary\n",
    "print(me['name'])\n",
    "print(me['eid'])\n",
    "\n",
    "# To create data frames using dictionaries you need to import pandas\n",
    "import pandas \n",
    "# create a new dictionary\n",
    "df = pandas.DataFrame({'x': [1, 2, 3, 8, 9, 2, 1], 'y': [3, 4, 5, 1, 1, 1, 1], \n",
    "                       'z':[0, 0, 5, 4, 5, 6,1]})\n",
    "\n",
    "# print the whole data frame\n",
    "print(df)\n",
    "\n",
    "# print only the head of your data frame\n",
    "df.head()"
   ]
  },
  {
   "cell_type": "code",
   "execution_count": null,
   "metadata": {},
   "outputs": [],
   "source": []
  }
 ],
 "metadata": {
  "kernelspec": {
   "display_name": "Python 3",
   "language": "python",
   "name": "python3"
  },
  "language_info": {
   "codemirror_mode": {
    "name": "ipython",
    "version": 3
   },
   "file_extension": ".py",
   "mimetype": "text/x-python",
   "name": "python",
   "nbconvert_exporter": "python",
   "pygments_lexer": "ipython3",
   "version": "3.8.5"
  }
 },
 "nbformat": 4,
 "nbformat_minor": 4
}
