{
 "cells": [
  {
   "cell_type": "markdown",
   "metadata": {
    "deletable": false,
    "editable": false,
    "nbgrader": {
     "cell_type": "markdown",
     "checksum": "8188eb25c66b62b23d006bfaacb0940a",
     "grade": false,
     "grade_id": "cell-797d77cfa55f22f3",
     "locked": true,
     "schema_version": 3,
     "solution": false,
     "task": false
    }
   },
   "source": [
    "![image](JMUlogo.png)   \n",
    "\n",
    "# Math 248 Spring 2021\n",
    "                                                      \n",
    " # Computers and Numerical Algorithms\n",
    "                                                                                                          \n",
    " ## Instructor: Hala Nelson\n",
    "                                                                                                      \n",
    "  --------------------------------------------------- ----------------------------------------\n",
    "\n",
    "Course Objectives\n",
    "-----------------\n",
    "\n",
    "*This is not a computer science class.*\n",
    "\n",
    "-   Understand both the power of computing and its limitations (storage,\n",
    "    etc).\n",
    "\n",
    "-   Translate an algorithm into a program.\n",
    "\n",
    "-   Learn how to solve mathematical problems numerically and\n",
    "    computationally.\n",
    "\n",
    "-   Differentiate between analytical, numerical and computational\n",
    "    solutions of mathematical problems.\n",
    "\n",
    "-   Quantify errors and their sources.\n",
    "\n",
    "-   Construct sequences to approximate solutions of mathematical\n",
    "    problems (iterative methods, polynomial approximations, *etc.*).\n",
    "    Convergence/divergence, rate of convergence/divergence and error\n",
    "    analysis.\n",
    "\n",
    "-   Understand the difference between linear and nonlinear problems.\n",
    "    Linearizing.\n",
    "\n",
    "-   Discretize continuum quantities and problems (derivatives,\n",
    "    integrals, differential equations, *etc.*).\n",
    "\n",
    "-   Build confidence and understanding in using the computer as an\n",
    "    efficient mathematical tool.\n",
    "\n",
    "-   Understand some of the benefits and limitations for computer\n",
    "    answers.\n",
    "\n",
    "Math 248 is a keystone course for those who wish to specialize in\n",
    "applied or computational mathematics, and also reinforces and advances\n",
    "concepts from the calculus sequence, linear algebra and differential\n",
    "equations (238 or 336), and some probability. This course covers a wide\n",
    "swath of mathematical territory.\n",
    "\n",
    "# Notes for Weeks 1 and 2\n",
    "\n",
    "1.  We will code using Python 3. We will be setting up our own Jupyter\n",
    "    notebooks.\n",
    "\n",
    "2.  What are the main topics in Calculus? (Limits, functions,\n",
    "    continuity, differentiation, integration). Most important\n",
    "    application of calculus: The max and min happen at points where\n",
    "    $f'(x)=0$. Make sure you know your chain rule to calculate\n",
    "    derivatives in Calculus.\n",
    "\n",
    "3.  What is the language of Linear Algebra? (Vectors, matrices, vector\n",
    "    spaces, transformations). We will see important Matrix\n",
    "    Decompositions.\n",
    "\n",
    "4.  What are differential equations useful for? (Modeling phenomena from\n",
    "    the real world).\n",
    "\n",
    "5.  What does probability quantify? (Randomness). How do you generate a\n",
    "    random number in Python?\n",
    "\n",
    "6.  Sequences of real numbers:\n",
    "\n",
    "    -   Definition: A sequence of real numbers $\\{a_n\\}$ is a function\n",
    "        $a: \\mathbb{N}\\to\\mathbb{R}$ (it has infinitely many terms that\n",
    "        can be listed $a_1=a(1), a_2=a(2), \\dots, a_n=a(n),\\dots$).\n",
    "\n",
    "    -   Possible behaviors: divergence to $\\infty$, divergence to\n",
    "        $-\\infty$, convergence to a limit $L$ (see next item), limit\n",
    "        does not exist (in which case it has subsequences whose behavior\n",
    "        is identified).\n",
    "\n",
    "    -   Convergence of a sequence $\\{a_n\\}$ to a limit $L$: Given\n",
    "        $\\epsilon>0$ there is an $N$ such that for all $n>N$,\n",
    "        $|a_n-L|<\\epsilon$.\n",
    "\n",
    "7.  Finite sums: **Summation formulas** (note that if the index starts\n",
    "    somewhere other than $1$ you have to make appropriate adjustments):\n",
    "\n",
    "    -   Sum of numbers: $\\sum_{i=1}^ni=\\frac{n(n+1)}{2}$\n",
    "\n",
    "    -   Sum of squares: $\\sum_{i=1}^ni^2=\\frac{n(n+1)(2n+1)}{6}$\n",
    "\n",
    "    -   Sum of cubes: $\\sum_{i=1}^ni^3=\\frac{n^2(n+1)^2}{4}$\n",
    "\n",
    "    -   Sum of geometric series: $\\sum_{i=1}^nb^i=\\frac{b^{n+1}-1}{b-1}$\n",
    "\n",
    "8.  **Program flow**: Always make sure you understand the *input* and\n",
    "    *output* of a program before writing it or creating the algorithm.\n",
    "\n",
    "9.  **Python**\n",
    "\n",
    "    -   Object Oriented and Interpreted Language.\n",
    "\n",
    "    -   Data types, classes, objects.\n",
    "\n",
    "    -   while loop and for loop\n",
    "\n",
    "    -   matplotlib\n",
    "\n",
    "    -   if statement\n",
    "\n",
    "    -   initiating lists, vectors and matrices.\n",
    "\n",
    "    -   Adding onto lists.\n",
    "\n",
    "    -   functions and methods.\n",
    "\n",
    "    -   input and .\n",
    "\n",
    "    -   Good names for your variables and your files."
   ]
  },
  {
   "cell_type": "markdown",
   "metadata": {
    "deletable": false,
    "editable": false,
    "nbgrader": {
     "cell_type": "markdown",
     "checksum": "a2ec49d1527acfc669d891673fc24766",
     "grade": false,
     "grade_id": "cell-797d77cfa55f22f4",
     "locked": true,
     "schema_version": 3,
     "solution": false,
     "task": false
    }
   },
   "source": [
    "# Assignments 1 and 2"
   ]
  },
  {
   "cell_type": "markdown",
   "metadata": {
    "deletable": false,
    "editable": false,
    "nbgrader": {
     "cell_type": "markdown",
     "checksum": "1e2c1707ba60c4f8f2ce8f62b05aac25",
     "grade": false,
     "grade_id": "cell-797d77cfa55f22f5",
     "locked": true,
     "schema_version": 3,
     "solution": false,
     "task": false
    }
   },
   "source": [
    "1.  What is an algorithm? What is the difference between an algorithm\n",
    "    and a computer program?"
   ]
  },
  {
   "cell_type": "markdown",
   "metadata": {
    "deletable": false,
    "nbgrader": {
     "cell_type": "markdown",
     "checksum": "7cabfea497b90c200e02c84b393b45ec",
     "grade": true,
     "grade_id": "cell-51c9616bfee4722a",
     "locked": false,
     "points": 1,
     "schema_version": 3,
     "solution": true,
     "task": false
    }
   },
   "source": [
    "YOUR ANSWER HERE"
   ]
  },
  {
   "cell_type": "markdown",
   "metadata": {
    "deletable": false,
    "editable": false,
    "nbgrader": {
     "cell_type": "markdown",
     "checksum": "19787ea7951da23e95bdf0c7df5e2e43",
     "grade": false,
     "grade_id": "cell-797d77cfa55f22f6",
     "locked": true,
     "schema_version": 3,
     "solution": false,
     "task": false
    }
   },
   "source": [
    "2.  Why is Python a high level language? Why is it interpreted? What is\n",
    "    Machine Language?\n",
    "\n",
    "3.  What was the role of Bell labs in the development of the modern\n",
    "    computer?\n",
    "\n",
    "4.  What was the role of Alan Turing in the development of the modern\n",
    "    computer? (The movie *the imitation game (2014)* is (loosely) based\n",
    "    on Alan's story.)\n",
    "\n",
    "5.  What is a transistor? Why is it important for building and enhancing\n",
    "    computers?\n",
    "\n",
    "6.  How small is the smallest transistor ever invented?\n",
    "\n",
    "7.  What is a semiconductor? Why is it important for building and\n",
    "    enhancing computers?\n",
    "\n",
    "8.  Why was the development of the RAM revolutionary for the development\n",
    "    of the modern computer?\n",
    "\n",
    "9.  Why is there now so much research about quantum computing?"
   ]
  },
  {
   "cell_type": "markdown",
   "metadata": {
    "deletable": false,
    "nbgrader": {
     "cell_type": "markdown",
     "checksum": "ea3e7143befc0372663adf33fc663980",
     "grade": true,
     "grade_id": "cell-5ba109e9a051a74e",
     "locked": false,
     "points": 8,
     "schema_version": 3,
     "solution": true,
     "task": false
    }
   },
   "source": [
    "YOUR ANSWER HERE"
   ]
  },
  {
   "cell_type": "markdown",
   "metadata": {
    "deletable": false,
    "editable": false,
    "nbgrader": {
     "cell_type": "markdown",
     "checksum": "ea189e763790f8dd21648988eb2f8c64",
     "grade": false,
     "grade_id": "cell-797d77cfa55f22f7",
     "locked": true,
     "schema_version": 3,
     "solution": false,
     "task": false
    }
   },
   "source": [
    "10. Calculate the following sum analytically $\\sum_{k=6}^{50}k^2$."
   ]
  },
  {
   "cell_type": "markdown",
   "metadata": {
    "deletable": false,
    "nbgrader": {
     "cell_type": "markdown",
     "checksum": "d24dfdb5dd8c947e3a3d9d6fe888e48d",
     "grade": true,
     "grade_id": "cell-8153406f14be85ee",
     "locked": false,
     "points": 2,
     "schema_version": 3,
     "solution": true,
     "task": false
    }
   },
   "source": [
    "YOUR ANSWER HERE"
   ]
  },
  {
   "cell_type": "markdown",
   "metadata": {
    "deletable": false,
    "editable": false,
    "nbgrader": {
     "cell_type": "markdown",
     "checksum": "c90c21ab40298bb41fdca8dee7821618",
     "grade": false,
     "grade_id": "cell-840359a27bd2753e",
     "locked": true,
     "schema_version": 3,
     "solution": false,
     "task": false
    }
   },
   "source": [
    "# Program A\n",
    "\n",
    "Write a program that lists all the positive multiples of $5$ less than $200$."
   ]
  },
  {
   "cell_type": "code",
   "execution_count": null,
   "metadata": {
    "deletable": false,
    "nbgrader": {
     "cell_type": "code",
     "checksum": "8da4ffee20ff67d4fd70e31fec8ff1e8",
     "grade": false,
     "grade_id": "cell-d4eba982b4fad15f",
     "locked": false,
     "schema_version": 3,
     "solution": true,
     "task": false
    }
   },
   "outputs": [],
   "source": [
    "import numpy as np\n",
    "# Initialize an empty list then append it using a for loop\n",
    "# YOUR CODE HERE\n",
    "raise NotImplementedError()"
   ]
  },
  {
   "cell_type": "markdown",
   "metadata": {
    "deletable": false,
    "editable": false,
    "nbgrader": {
     "cell_type": "markdown",
     "checksum": "b83e057d7480cb8c160834de6a7a2b22",
     "grade": false,
     "grade_id": "cell-d461742c291cecc5",
     "locked": true,
     "schema_version": 3,
     "solution": false,
     "task": false
    }
   },
   "source": [
    "# Program B\n",
    "\n",
    "Write a program that computes the following limit\n",
    "        $\\lim_{n\\to\\infty}\\frac{n^3-2n^2+1}{3n^3-4n+9}$. Make a plot\n",
    "        showing the convergence of the sequence\n",
    "        $\\left\\{\\frac{n^3-2n^2+1}{3n^3-4n+9}\\right\\}_{n=1}^\\infty$ to\n",
    "        this limit as $n\\to\\infty$."
   ]
  },
  {
   "cell_type": "code",
   "execution_count": null,
   "metadata": {
    "deletable": false,
    "nbgrader": {
     "cell_type": "code",
     "checksum": "7f91aceabbe37c63a22e246bf4624bd1",
     "grade": false,
     "grade_id": "cell-9bf669e1559498a3",
     "locked": false,
     "schema_version": 3,
     "solution": true,
     "task": false
    }
   },
   "outputs": [],
   "source": [
    "# we already imported numpy as np\n",
    "import matplotlib.pyplot as plt\n",
    "# create a range function with a specific stepsize \n",
    "def drange(start, stop, step):\n",
    "        r = start\n",
    "        while r < stop:\n",
    "          yield r\n",
    "          r += step\n",
    "# YOUR CODE HERE\n",
    "raise NotImplementedError()"
   ]
  },
  {
   "cell_type": "markdown",
   "metadata": {
    "deletable": false,
    "editable": false,
    "nbgrader": {
     "cell_type": "markdown",
     "checksum": "e0ade019030159b3e6e7753630addeca",
     "grade": false,
     "grade_id": "cell-ecb2f7bc68470b92",
     "locked": true,
     "schema_version": 3,
     "solution": false,
     "task": false
    }
   },
   "source": [
    "# Program C \n",
    "\n",
    "Write a program that tells you the least $n$ so that the\n",
    "        sequence $a_n=\\frac{n^2}{2n^2-1}$ is within distance $0.000001$\n",
    "        of its limit. Is this sequence fast to converge or slow?\n",
    "        Compare to the above problem."
   ]
  },
  {
   "cell_type": "code",
   "execution_count": null,
   "metadata": {
    "deletable": false,
    "nbgrader": {
     "cell_type": "code",
     "checksum": "8e955c08cf4e3dc9e976bd749976557c",
     "grade": false,
     "grade_id": "cell-96d8b1257738e9be",
     "locked": false,
     "schema_version": 3,
     "solution": true,
     "task": false
    }
   },
   "outputs": [],
   "source": [
    "# YOUR CODE HERE\n",
    "raise NotImplementedError()"
   ]
  },
  {
   "cell_type": "markdown",
   "metadata": {
    "deletable": false,
    "editable": false,
    "nbgrader": {
     "cell_type": "markdown",
     "checksum": "04f1230bc4406b3488355b63a8671968",
     "grade": false,
     "grade_id": "cell-279ecf309184dc32",
     "locked": true,
     "schema_version": 3,
     "solution": false,
     "task": false
    }
   },
   "source": [
    "# Program D\n",
    "Write a program that calculates the following sum\n",
    "        $\\sum_{k=6}^{50}k^2$."
   ]
  },
  {
   "cell_type": "code",
   "execution_count": null,
   "metadata": {
    "deletable": false,
    "nbgrader": {
     "cell_type": "code",
     "checksum": "4d7283e9bbf7a53d726260d8d73fdf8a",
     "grade": false,
     "grade_id": "cell-5eda6a4c54e54f3f",
     "locked": false,
     "schema_version": 3,
     "solution": true,
     "task": false
    }
   },
   "outputs": [],
   "source": [
    "# YOUR CODE HERE\n",
    "raise NotImplementedError()"
   ]
  },
  {
   "cell_type": "markdown",
   "metadata": {
    "deletable": false,
    "editable": false,
    "nbgrader": {
     "cell_type": "markdown",
     "checksum": "d19983047c8b71c01280636ce5f9ca28",
     "grade": false,
     "grade_id": "cell-5f01a34f2b49834f",
     "locked": true,
     "schema_version": 3,
     "solution": false,
     "task": false
    }
   },
   "source": [
    "# Program E\n",
    "Write a program that generates a random number between $0$ and\n",
    "        $1$."
   ]
  },
  {
   "cell_type": "code",
   "execution_count": null,
   "metadata": {
    "deletable": false,
    "nbgrader": {
     "cell_type": "code",
     "checksum": "70614ff9075b2856b5dac6bd5914f964",
     "grade": false,
     "grade_id": "cell-5c1b5ac63a83b99d",
     "locked": false,
     "schema_version": 3,
     "solution": true,
     "task": false
    }
   },
   "outputs": [],
   "source": [
    "# YOUR CODE HERE\n",
    "raise NotImplementedError()"
   ]
  },
  {
   "cell_type": "markdown",
   "metadata": {
    "deletable": false,
    "editable": false,
    "nbgrader": {
     "cell_type": "markdown",
     "checksum": "b82e1a9ebb417340db9c46e2f34287d9",
     "grade": false,
     "grade_id": "cell-2750f055b4aff20e",
     "locked": true,
     "schema_version": 3,
     "solution": false,
     "task": false
    }
   },
   "source": [
    "# Program F\n",
    "Write a program that generates a random number between $11$ and\n",
    "        $24$."
   ]
  },
  {
   "cell_type": "code",
   "execution_count": null,
   "metadata": {
    "deletable": false,
    "nbgrader": {
     "cell_type": "code",
     "checksum": "9ecff69d6da667fd71c87bef541ad570",
     "grade": false,
     "grade_id": "cell-e10f39d2101fb229",
     "locked": false,
     "schema_version": 3,
     "solution": true,
     "task": false
    }
   },
   "outputs": [],
   "source": [
    "# YOUR CODE HERE\n",
    "raise NotImplementedError()"
   ]
  },
  {
   "cell_type": "markdown",
   "metadata": {
    "deletable": false,
    "editable": false,
    "nbgrader": {
     "cell_type": "markdown",
     "checksum": "ad4fb8156750f72ac7f5435bdbca2f57",
     "grade": false,
     "grade_id": "cell-a916cf862ee13743",
     "locked": true,
     "schema_version": 3,
     "solution": false,
     "task": false
    }
   },
   "source": [
    "# Program G\n",
    "Write a Python class that defines instances with your name, your\n",
    "        jmu eid, your phone number."
   ]
  },
  {
   "cell_type": "code",
   "execution_count": null,
   "metadata": {
    "deletable": false,
    "nbgrader": {
     "cell_type": "code",
     "checksum": "e4650ffa4e7f38e00c24299831eb5d5f",
     "grade": false,
     "grade_id": "cell-75e8df2877e916a2",
     "locked": false,
     "schema_version": 3,
     "solution": true,
     "task": false
    }
   },
   "outputs": [],
   "source": [
    "# YOUR CODE HERE\n",
    "raise NotImplementedError()"
   ]
  }
 ],
 "metadata": {
  "kernelspec": {
   "display_name": "Python 3",
   "language": "python",
   "name": "python3"
  },
  "language_info": {
   "codemirror_mode": {
    "name": "ipython",
    "version": 3
   },
   "file_extension": ".py",
   "mimetype": "text/x-python",
   "name": "python",
   "nbconvert_exporter": "python",
   "pygments_lexer": "ipython3",
   "version": "3.8.5"
  }
 },
 "nbformat": 4,
 "nbformat_minor": 4
}
